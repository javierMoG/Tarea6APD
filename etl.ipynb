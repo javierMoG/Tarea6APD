{
 "cells": [
  {
   "cell_type": "markdown",
   "metadata": {},
   "source": [
    "# ETL\n",
    "\n",
    "Archivo para descargar los datos del tipo de cambio y de la tasa de interés de la API de Banxico y la inflación de la API del INEGI y almacenarlos en Amazon S3."
   ]
  },
  {
   "cell_type": "code",
   "execution_count": 19,
   "metadata": {},
   "outputs": [],
   "source": [
    "# Cargamos los paquetes necesarios\n",
    "from sie_banxico import SIEBanxico\n",
    "from INEGIpy import Indicadores\n",
    "import pandas as pd\n",
    "import boto3\n",
    "import yaml"
   ]
  },
  {
   "cell_type": "markdown",
   "metadata": {},
   "source": [
    "## Extract"
   ]
  },
  {
   "cell_type": "code",
   "execution_count": 2,
   "metadata": {},
   "outputs": [],
   "source": [
    "# Abrir yaml\n",
    "with open(\"config.yaml\", \"r\") as file:\n",
    "    config = yaml.safe_load(file)\n",
    "\n",
    "# Leémos el token proporcionado por Banxico para acceder a su API\n",
    "token_bmx = config['etl']['token_bmx']\n",
    "# Accedemos a las series de tipo de cambio y tasa de interés a través de la API\n",
    "api = SIEBanxico(token = token_bmx, id_series = ['SF63528', 'SF43783'], language = 'en')\n",
    "# api.get_metadata()\n",
    "data = api.get_timeseries()\n",
    "# Convertimos la serie de tipo de cambio en un dataframe para su manipulación\n",
    "tbl_tipo_de_cambio_raw = pd.DataFrame(data['bmx']['series'][0]['datos'])\n",
    "# Convertimos la serie de tasa de interés en un dataframe para su manipulación\n",
    "tbl_tasa_de_interes_raw = pd.DataFrame(data['bmx']['series'][1]['datos'])\n",
    "\n",
    "# Leémos el token proporcionado por el Inegi para acceder a su API\n",
    "token_inegi = config['etl']['token_inegi']\n",
    "# Accedemos al banco de indicadores del Inegi\n",
    "inegi = Indicadores(token_inegi)\n",
    "# Creamos un dataframe con los datos de inflación quincenal\n",
    "tbl_inflacion_raw = inegi.obtener_df(indicadores = \"628229\", \n",
    "                      nombres = 'Inflación quincenal')"
   ]
  },
  {
   "cell_type": "markdown",
   "metadata": {},
   "source": [
    "## Transform"
   ]
  },
  {
   "cell_type": "code",
   "execution_count": 12,
   "metadata": {},
   "outputs": [],
   "source": [
    "# Definimos un diccionario con los nombres limpios para la tabla tbl_tipo_de_cambio_raw\n",
    "DICT_NAMES_TIPO_DE_CAMBIO_TABLE = {\n",
    "    'fecha': 'date',\n",
    "    'dato': 'tipo_de_cambio'\n",
    "}\n",
    "# Cambiamos el nombre de las columnas en la tabla \n",
    "tbl_tipo_de_cambio_raw = tbl_tipo_de_cambio_raw.rename(columns = DICT_NAMES_TIPO_DE_CAMBIO_TABLE)\n",
    "# Cambiamos el formato de la columna date a datetime\n",
    "tbl_tipo_de_cambio_raw['date'] = pd.to_datetime(tbl_tipo_de_cambio_raw['date'], format='%d/%m/%Y')\n",
    "# Guardamos la tabla tbl_tipo_de_cambio_raw en un csv\n",
    "tbl_tipo_de_cambio_raw.to_csv(\"./datos/tipo_de_cambio.csv\", index=False)\n",
    "\n",
    "# Definimos un diccionario con los nombres limpios para la tabla tbl_tasa_de_interes_raw\n",
    "DICT_NAMES_TASA_DE_INTERES_TABLE = {\n",
    "    'fecha': 'date',\n",
    "    'dato': 'tasa_de_interes'\n",
    "}\n",
    "# Cambiamos el nombre de las columnas en la tabla tbl_tasa_de_interes_raw\n",
    "tbl_tasa_de_interes_raw = tbl_tasa_de_interes_raw.rename(columns = DICT_NAMES_TASA_DE_INTERES_TABLE)\n",
    "# Cambiamos el formato de la columna date a datetime\n",
    "tbl_tasa_de_interes_raw['date'] = pd.to_datetime(tbl_tasa_de_interes_raw['date'], format='%d/%m/%Y')\n",
    "# Guardamos la tabla tbl_tasa_de_interes_raw en un csv\n",
    "tbl_tasa_de_interes_raw.to_csv(\"./datos/tasa_de_interes.csv\", index=False)\n",
    "\n",
    "# Defininimos un diccionario con los nombres limpios para la tabla tbl_inflacion_raw\n",
    "DICT_NAMES_INFLACION_TABLE = {\n",
    "    'Inflación quincenal': 'inflacion'\n",
    "}\n",
    "# Convertimos los row_names con la información de la fecha en columna\n",
    "tbl_inflacion_raw = tbl_inflacion_raw.reset_index().rename(columns={\"index\":\"date\"})\t\t\n",
    "# Cambiamos el nombre de las columnas en la tabla tbl_inflacion_raw\n",
    "tbl_inflacion_raw = (tbl_inflacion_raw\n",
    "                     .rename(columns = DICT_NAMES_INFLACION_TABLE)\n",
    ")\n",
    "# Cambiamos el formato de la columna date a datetime\n",
    "tbl_inflacion_raw['date'] = pd.to_datetime(tbl_inflacion_raw['date'], format='%Y-%m-%d')\n",
    "# Guardamos la tabla tbl_inflacion en un csv\n",
    "tbl_inflacion_raw.to_csv(\"./datos/inflacion.csv\", index=False)"
   ]
  },
  {
   "cell_type": "markdown",
   "metadata": {},
   "source": [
    "## Load"
   ]
  },
  {
   "cell_type": "code",
   "execution_count": 15,
   "metadata": {},
   "outputs": [],
   "source": [
    "# Abrimos un cliente de S3\n",
    "session = boto3.Session(profile_name='arquitectura')\n",
    "s3 = session.client('s3')\n",
    "\n",
    "# Cargamos los tres archivos a S3\n",
    "BUCKET_NAME = \"itam-analytics-javier\"\n",
    "s3.upload_file(Filename=\"./datos/tasa_de_interes.csv\", Bucket=BUCKET_NAME, Key=\"tarea6/raw/tasa_de_interes/tasa_de_interes.csv\")\n",
    "s3.upload_file(Filename=\"./datos/tipo_de_cambio.csv\", Bucket=BUCKET_NAME, Key=\"tarea6/raw/tipo_de_cambio/tipo_de_cambio.csv\")\n",
    "s3.upload_file(Filename=\"./datos/inflacion.csv\", Bucket=BUCKET_NAME, Key=\"tarea6/raw/inflacion/inflacion.csv\")"
   ]
  }
 ],
 "metadata": {
  "kernelspec": {
   "display_name": "base",
   "language": "python",
   "name": "python3"
  },
  "language_info": {
   "codemirror_mode": {
    "name": "ipython",
    "version": 3
   },
   "file_extension": ".py",
   "mimetype": "text/x-python",
   "name": "python",
   "nbconvert_exporter": "python",
   "pygments_lexer": "ipython3",
   "version": "3.11.4"
  }
 },
 "nbformat": 4,
 "nbformat_minor": 2
}
