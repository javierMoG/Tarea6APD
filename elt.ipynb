{
 "cells": [
  {
   "cell_type": "code",
   "execution_count": 9,
   "metadata": {},
   "outputs": [],
   "source": [
    "import awswrangler as wr\n",
    "# Abrimos un cliente de S3\n",
    "import boto3\n",
    "session = boto3.Session(profile_name='arquitectura',\n",
    "                        region_name='us-east-1')\n",
    "s3 = session.client('s3')"
   ]
  },
  {
   "cell_type": "markdown",
   "metadata": {},
   "source": [
    "## ELT"
   ]
  },
  {
   "cell_type": "markdown",
   "metadata": {},
   "source": [
    "## Extract y Load\n",
    "\n",
    "### Crear tablas en la base de datos de nuestros CSVs en el data lake\n",
    "\n",
    "- **Tabla tipo de cambio**"
   ]
  },
  {
   "cell_type": "code",
   "execution_count": 11,
   "metadata": {},
   "outputs": [
    {
     "data": {
      "text/html": [
       "<div>\n",
       "<style scoped>\n",
       "    .dataframe tbody tr th:only-of-type {\n",
       "        vertical-align: middle;\n",
       "    }\n",
       "\n",
       "    .dataframe tbody tr th {\n",
       "        vertical-align: top;\n",
       "    }\n",
       "\n",
       "    .dataframe thead th {\n",
       "        text-align: right;\n",
       "    }\n",
       "</style>\n",
       "<table border=\"1\" class=\"dataframe\">\n",
       "  <thead>\n",
       "    <tr style=\"text-align: right;\">\n",
       "      <th></th>\n",
       "    </tr>\n",
       "  </thead>\n",
       "  <tbody>\n",
       "  </tbody>\n",
       "</table>\n",
       "</div>"
      ],
      "text/plain": [
       "Empty DataFrame\n",
       "Columns: []\n",
       "Index: []"
      ]
     },
     "execution_count": 11,
     "metadata": {},
     "output_type": "execute_result"
    }
   ],
   "source": [
    "query = '''\n",
    "    CREATE EXTERNAL TABLE IF NOT EXISTS `econ`.`tipo_de_cambio`(\n",
    "    `date` date, \n",
    "    `tipo_de_cambio` double)\n",
    "    ROW FORMAT SERDE 'org.apache.hadoop.hive.serde2.lazy.LazySimpleSerDe'\n",
    "    WITH SERDEPROPERTIES ('field.delim' = ',')\n",
    "    STORED AS INPUTFORMAT 'org.apache.hadoop.mapred.TextInputFormat' \n",
    "    OUTPUTFORMAT 'org.apache.hadoop.hive.ql.io.HiveIgnoreKeyTextOutputFormat'\n",
    "    LOCATION 's3://itam-analytics-javier/tarea6/raw/tipo_de_cambio/'\n",
    "    TBLPROPERTIES ('classification' = 'csv', \"skip.header.line.count\"=\"1\");\n",
    "'''\n",
    "\n",
    "wr.athena.read_sql_query(query, \n",
    "                         database=\"econ\", \n",
    "                         ctas_approach=False,\n",
    "                         boto3_session=session)"
   ]
  },
  {
   "cell_type": "markdown",
   "metadata": {},
   "source": [
    "- **Tabla tasa de interés**"
   ]
  },
  {
   "cell_type": "code",
   "execution_count": null,
   "metadata": {},
   "outputs": [],
   "source": [
    "query = '''\n",
    "    CREATE EXTERNAL TABLE IF NOT EXISTS `econ`.`tasa_de_interes`(\n",
    "    `date` date, \n",
    "    `tasa_de_interes` double)\n",
    "    ROW FORMAT SERDE 'org.apache.hadoop.hive.serde2.lazy.LazySimpleSerDe'\n",
    "    WITH SERDEPROPERTIES ('field.delim' = ',')\n",
    "    STORED AS INPUTFORMAT 'org.apache.hadoop.mapred.TextInputFormat' \n",
    "    OUTPUTFORMAT 'org.apache.hadoop.hive.ql.io.HiveIgnoreKeyTextOutputFormat'\n",
    "    LOCATION 's3://itam-analytics-javier/tarea6/raw/tasa_de_interes/'\n",
    "    TBLPROPERTIES ('classification' = 'csv', \"skip.header.line.count\"=\"1\");\n",
    "'''\n",
    "\n",
    "wr.athena.read_sql_query(query, database=\"econ\", ctas_approach=False)"
   ]
  },
  {
   "cell_type": "markdown",
   "metadata": {},
   "source": [
    "- **Tabla inflación**"
   ]
  },
  {
   "cell_type": "code",
   "execution_count": null,
   "metadata": {},
   "outputs": [],
   "source": [
    "query = '''\n",
    "    CREATE EXTERNAL TABLE IF NOT EXISTS `econ`.`inflacion`(\n",
    "    `date` date, \n",
    "    `inflacion` double)\n",
    "    ROW FORMAT SERDE 'org.apache.hadoop.hive.serde2.lazy.LazySimpleSerDe'\n",
    "    WITH SERDEPROPERTIES ('field.delim' = ',')\n",
    "    STORED AS INPUTFORMAT 'org.apache.hadoop.mapred.TextInputFormat' \n",
    "    OUTPUTFORMAT 'org.apache.hadoop.hive.ql.io.HiveIgnoreKeyTextOutputFormat'\n",
    "    LOCATION 's3://itam-analytics-javier/tarea6/raw/inflacion/'\n",
    "    TBLPROPERTIES ('classification' = 'csv', \"skip.header.line.count\"=\"1\");\n",
    "'''\n",
    "\n",
    "wr.athena.read_sql_query(query, database=\"econ\", ctas_approach=False)"
   ]
  },
  {
   "cell_type": "markdown",
   "metadata": {},
   "source": [
    "## Transform"
   ]
  },
  {
   "cell_type": "code",
   "execution_count": 12,
   "metadata": {},
   "outputs": [
    {
     "data": {
      "text/html": [
       "<div>\n",
       "<style scoped>\n",
       "    .dataframe tbody tr th:only-of-type {\n",
       "        vertical-align: middle;\n",
       "    }\n",
       "\n",
       "    .dataframe tbody tr th {\n",
       "        vertical-align: top;\n",
       "    }\n",
       "\n",
       "    .dataframe thead th {\n",
       "        text-align: right;\n",
       "    }\n",
       "</style>\n",
       "<table border=\"1\" class=\"dataframe\">\n",
       "  <thead>\n",
       "    <tr style=\"text-align: right;\">\n",
       "      <th></th>\n",
       "    </tr>\n",
       "  </thead>\n",
       "  <tbody>\n",
       "  </tbody>\n",
       "</table>\n",
       "</div>"
      ],
      "text/plain": [
       "Empty DataFrame\n",
       "Columns: []\n",
       "Index: []"
      ]
     },
     "execution_count": 12,
     "metadata": {},
     "output_type": "execute_result"
    }
   ],
   "source": [
    "#Tabla que junta los datos de la inflación, la tasa de interés y el tipo de cambio\n",
    "query = '''\n",
    "    CREATE TABLE econ.datos_mensuales AS (\n",
    "        SELECT \n",
    "            a.date,\n",
    "            a.inflacion,\n",
    "            b.tasa_de_interes,\n",
    "            c.tipo_de_cambio\n",
    "        FROM econ.inflacion AS a\n",
    "        LEFT JOIN econ.tasa_de_interes AS b ON a.date = b.date\n",
    "        LEFT JOIN econ.tipo_de_cambio AS c ON a.date = c.date\n",
    "    )\n",
    "'''\n",
    "\n",
    "wr.athena.read_sql_query(query, \n",
    "                         database=\"econ\", \n",
    "                         ctas_approach=False,\n",
    "                         boto3_session=session)"
   ]
  }
 ],
 "metadata": {
  "kernelspec": {
   "display_name": "base",
   "language": "python",
   "name": "python3"
  },
  "language_info": {
   "codemirror_mode": {
    "name": "ipython",
    "version": 3
   },
   "file_extension": ".py",
   "mimetype": "text/x-python",
   "name": "python",
   "nbconvert_exporter": "python",
   "pygments_lexer": "ipython3",
   "version": "3.11.4"
  }
 },
 "nbformat": 4,
 "nbformat_minor": 2
}
